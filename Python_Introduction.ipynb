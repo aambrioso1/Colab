{
  "nbformat": 4,
  "nbformat_minor": 0,
  "metadata": {
    "colab": {
      "name": "Python_Introduction.ipynb",
      "provenance": [],
      "collapsed_sections": [],
      "authorship_tag": "ABX9TyMrg1OtNv4loPmOwGtKKEwb",
      "include_colab_link": true
    },
    "kernelspec": {
      "name": "python3",
      "display_name": "Python 3"
    }
  },
  "cells": [
    {
      "cell_type": "markdown",
      "metadata": {
        "id": "view-in-github",
        "colab_type": "text"
      },
      "source": [
        "<a href=\"https://colab.research.google.com/github/aambrioso1/Colab/blob/master/Python_Introduction.ipynb\" target=\"_parent\"><img src=\"https://colab.research.google.com/assets/colab-badge.svg\" alt=\"Open In Colab\"/></a>"
      ]
    },
    {
      "cell_type": "markdown",
      "metadata": {
        "id": "F4ygOwx66vrh"
      },
      "source": [
        "We begin with some Python basics.   Let's look at the print and type statement and the string data type."
      ]
    },
    {
      "cell_type": "code",
      "metadata": {
        "colab": {
          "base_uri": "https://localhost:8080/"
        },
        "id": "dB6iIomR696e",
        "outputId": "cfa8ff70-523d-4674-bb1a-32cc7bc5ad61"
      },
      "source": [
        "print('Hello World!')\r\n",
        "print(\"Hello World!\")\r\n",
        "type('Hello World!')"
      ],
      "execution_count": 14,
      "outputs": [
        {
          "output_type": "stream",
          "text": [
            "Hello World!\n",
            "Hello World!\n"
          ],
          "name": "stdout"
        },
        {
          "output_type": "execute_result",
          "data": {
            "text/plain": [
              "str"
            ]
          },
          "metadata": {
            "tags": []
          },
          "execution_count": 14
        }
      ]
    },
    {
      "cell_type": "markdown",
      "metadata": {
        "id": "avafJgBL9lvy"
      },
      "source": [
        "Other built in data types: int, float, list."
      ]
    },
    {
      "cell_type": "code",
      "metadata": {
        "colab": {
          "base_uri": "https://localhost:8080/"
        },
        "id": "DOfrLbnz9xLq",
        "outputId": "5781c9d5-1d2e-4e6e-e922-b07c50baef06"
      },
      "source": [
        "print(2+2)\r\n",
        "print(type(4))\r\n",
        "print(1/5)\r\n",
        "print(type(4))\r\n",
        "my_list = [1 , 2, 'a', 'b', 'c']\r\n",
        "print(my_list)\r\n",
        "print(type(my_list))"
      ],
      "execution_count": 23,
      "outputs": [
        {
          "output_type": "stream",
          "text": [
            "4\n",
            "<class 'int'>\n",
            "0.2\n",
            "<class 'int'>\n",
            "[1, 2, 'a', 'b', 'c']\n",
            "<class 'list'>\n"
          ],
          "name": "stdout"
        }
      ]
    },
    {
      "cell_type": "markdown",
      "metadata": {
        "id": "aUeu98hc_LYk"
      },
      "source": [
        "The integer class has arbitrary precision."
      ]
    },
    {
      "cell_type": "code",
      "metadata": {
        "colab": {
          "base_uri": "https://localhost:8080/"
        },
        "id": "q4YUUriH_VQ3",
        "outputId": "1c20bbc5-ae81-4e05-a15a-b84d1ffed65c"
      },
      "source": [
        "print(123456789 * 987654321)"
      ],
      "execution_count": 25,
      "outputs": [
        {
          "output_type": "stream",
          "text": [
            "121932631112635269\n"
          ],
          "name": "stdout"
        }
      ]
    },
    {
      "cell_type": "markdown",
      "metadata": {
        "id": "d5hE2oF6_hY6"
      },
      "source": [
        "For exponention use **."
      ]
    },
    {
      "cell_type": "code",
      "metadata": {
        "colab": {
          "base_uri": "https://localhost:8080/"
        },
        "id": "Ypcs96zb_o-e",
        "outputId": "04e1acca-4675-46a6-dc37-255eba051d4f"
      },
      "source": [
        "print(2 ** 10)\r\n",
        "print(2 ** 200)"
      ],
      "execution_count": 30,
      "outputs": [
        {
          "output_type": "stream",
          "text": [
            "1024\n",
            "1606938044258990275541962092341162602522202993782792835301376\n"
          ],
          "name": "stdout"
        }
      ]
    },
    {
      "cell_type": "markdown",
      "metadata": {
        "id": "InPys6ybAIMR"
      },
      "source": [
        "The third Python numberic type is the complex number.\r\n",
        "Continue writing about type.  See:\r\n",
        "https://docs.python.org/3/library/stdtypes.html#list\r\n"
      ]
    },
    {
      "cell_type": "code",
      "metadata": {
        "colab": {
          "base_uri": "https://localhost:8080/"
        },
        "id": "zud1I1si_zTl",
        "outputId": "2c1770ca-0314-48f3-83dd-ca0c1a3cab70"
      },
      "source": [
        "print(complex('1-2j') - complex('-2+3j'))\r\n",
        "print(type(complex('1-2j')))"
      ],
      "execution_count": 31,
      "outputs": [
        {
          "output_type": "stream",
          "text": [
            "(3-5j)\n",
            "<class 'complex'>\n"
          ],
          "name": "stdout"
        }
      ]
    },
    {
      "cell_type": "code",
      "metadata": {
        "id": "wpucY-_SB0im"
      },
      "source": [
        ""
      ],
      "execution_count": null,
      "outputs": []
    }
  ]
}